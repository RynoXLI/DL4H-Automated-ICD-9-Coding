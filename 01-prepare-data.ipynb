{
 "cells": [
  {
   "attachments": {},
   "cell_type": "markdown",
   "metadata": {},
   "source": [
    "# Prepare Data\n",
    "\n",
    "In this script we will prepare the data for the DeepLabeler model\n",
    "\n",
    "Author: Ryan Fogle (rsfogle2@illinois.edu, ryanfogle98@gmail.com)\n",
    "\n",
    "Date: 4-7-2023"
   ]
  },
  {
   "cell_type": "code",
   "execution_count": 1,
   "metadata": {},
   "outputs": [],
   "source": [
    "# import necessary libraries\n",
    "import numpy as np\n",
    "import pandas as pd\n",
    "import os\n",
    "import re\n",
    "from tqdm import tqdm\n",
    "tqdm.pandas()\n",
    "from datetime import datetime\n",
    "start = datetime.now()"
   ]
  },
  {
   "attachments": {},
   "cell_type": "markdown",
   "metadata": {},
   "source": [
    "## Load in Notes & ICD9 Codes\n",
    "\n",
    "We will now load in the notes from the MIMIC-III dataset for the discharge summaries and then join this dataset with the ICD9 codes. \n",
    "\n",
    "To get access to the MIMIC-III dataset please follow the guidelines as seen in this link: https://eicu-crd.mit.edu/gettingstarted/access/"
   ]
  },
  {
   "cell_type": "code",
   "execution_count": 2,
   "metadata": {},
   "outputs": [
    {
     "name": "stderr",
     "output_type": "stream",
     "text": [
      "/tmp/ipykernel_1238/3974851227.py:4: DtypeWarning: Columns (4,5) have mixed types. Specify dtype option on import or set low_memory=False.\n",
      "  notes = pd.read_csv(data_url + 'NOTEEVENTS.csv')\n"
     ]
    },
    {
     "data": {
      "text/html": [
       "<div>\n",
       "<style scoped>\n",
       "    .dataframe tbody tr th:only-of-type {\n",
       "        vertical-align: middle;\n",
       "    }\n",
       "\n",
       "    .dataframe tbody tr th {\n",
       "        vertical-align: top;\n",
       "    }\n",
       "\n",
       "    .dataframe thead th {\n",
       "        text-align: right;\n",
       "    }\n",
       "</style>\n",
       "<table border=\"1\" class=\"dataframe\">\n",
       "  <thead>\n",
       "    <tr style=\"text-align: right;\">\n",
       "      <th></th>\n",
       "      <th>ROW_ID</th>\n",
       "      <th>SUBJECT_ID</th>\n",
       "      <th>HADM_ID</th>\n",
       "      <th>CHARTDATE</th>\n",
       "      <th>CHARTTIME</th>\n",
       "      <th>STORETIME</th>\n",
       "      <th>CATEGORY</th>\n",
       "      <th>DESCRIPTION</th>\n",
       "      <th>CGID</th>\n",
       "      <th>ISERROR</th>\n",
       "      <th>TEXT</th>\n",
       "    </tr>\n",
       "  </thead>\n",
       "  <tbody>\n",
       "    <tr>\n",
       "      <th>0</th>\n",
       "      <td>174</td>\n",
       "      <td>22532</td>\n",
       "      <td>167853.0</td>\n",
       "      <td>2151-08-04</td>\n",
       "      <td>NaN</td>\n",
       "      <td>NaN</td>\n",
       "      <td>Discharge summary</td>\n",
       "      <td>Report</td>\n",
       "      <td>NaN</td>\n",
       "      <td>NaN</td>\n",
       "      <td>Admission Date:  [**2151-7-16**]       Dischar...</td>\n",
       "    </tr>\n",
       "    <tr>\n",
       "      <th>1</th>\n",
       "      <td>175</td>\n",
       "      <td>13702</td>\n",
       "      <td>107527.0</td>\n",
       "      <td>2118-06-14</td>\n",
       "      <td>NaN</td>\n",
       "      <td>NaN</td>\n",
       "      <td>Discharge summary</td>\n",
       "      <td>Report</td>\n",
       "      <td>NaN</td>\n",
       "      <td>NaN</td>\n",
       "      <td>Admission Date:  [**2118-6-2**]       Discharg...</td>\n",
       "    </tr>\n",
       "    <tr>\n",
       "      <th>2</th>\n",
       "      <td>176</td>\n",
       "      <td>13702</td>\n",
       "      <td>167118.0</td>\n",
       "      <td>2119-05-25</td>\n",
       "      <td>NaN</td>\n",
       "      <td>NaN</td>\n",
       "      <td>Discharge summary</td>\n",
       "      <td>Report</td>\n",
       "      <td>NaN</td>\n",
       "      <td>NaN</td>\n",
       "      <td>Admission Date:  [**2119-5-4**]              D...</td>\n",
       "    </tr>\n",
       "    <tr>\n",
       "      <th>3</th>\n",
       "      <td>177</td>\n",
       "      <td>13702</td>\n",
       "      <td>196489.0</td>\n",
       "      <td>2124-08-18</td>\n",
       "      <td>NaN</td>\n",
       "      <td>NaN</td>\n",
       "      <td>Discharge summary</td>\n",
       "      <td>Report</td>\n",
       "      <td>NaN</td>\n",
       "      <td>NaN</td>\n",
       "      <td>Admission Date:  [**2124-7-21**]              ...</td>\n",
       "    </tr>\n",
       "    <tr>\n",
       "      <th>4</th>\n",
       "      <td>178</td>\n",
       "      <td>26880</td>\n",
       "      <td>135453.0</td>\n",
       "      <td>2162-03-25</td>\n",
       "      <td>NaN</td>\n",
       "      <td>NaN</td>\n",
       "      <td>Discharge summary</td>\n",
       "      <td>Report</td>\n",
       "      <td>NaN</td>\n",
       "      <td>NaN</td>\n",
       "      <td>Admission Date:  [**2162-3-3**]              D...</td>\n",
       "    </tr>\n",
       "  </tbody>\n",
       "</table>\n",
       "</div>"
      ],
      "text/plain": [
       "   ROW_ID  SUBJECT_ID   HADM_ID   CHARTDATE CHARTTIME STORETIME   \n",
       "0     174       22532  167853.0  2151-08-04       NaN       NaN  \\\n",
       "1     175       13702  107527.0  2118-06-14       NaN       NaN   \n",
       "2     176       13702  167118.0  2119-05-25       NaN       NaN   \n",
       "3     177       13702  196489.0  2124-08-18       NaN       NaN   \n",
       "4     178       26880  135453.0  2162-03-25       NaN       NaN   \n",
       "\n",
       "            CATEGORY DESCRIPTION  CGID  ISERROR   \n",
       "0  Discharge summary      Report   NaN      NaN  \\\n",
       "1  Discharge summary      Report   NaN      NaN   \n",
       "2  Discharge summary      Report   NaN      NaN   \n",
       "3  Discharge summary      Report   NaN      NaN   \n",
       "4  Discharge summary      Report   NaN      NaN   \n",
       "\n",
       "                                                TEXT  \n",
       "0  Admission Date:  [**2151-7-16**]       Dischar...  \n",
       "1  Admission Date:  [**2118-6-2**]       Discharg...  \n",
       "2  Admission Date:  [**2119-5-4**]              D...  \n",
       "3  Admission Date:  [**2124-7-21**]              ...  \n",
       "4  Admission Date:  [**2162-3-3**]              D...  "
      ]
     },
     "execution_count": 2,
     "metadata": {},
     "output_type": "execute_result"
    }
   ],
   "source": [
    "# IMPORTANT! change this to the location on your machine!\n",
    "data_url = '../physionet.org/files/mimiciii/1.4/'\n",
    "\n",
    "notes = pd.read_csv(data_url + 'NOTEEVENTS.csv')\n",
    "notes.head()"
   ]
  },
  {
   "attachments": {},
   "cell_type": "markdown",
   "metadata": {},
   "source": [
    "## Subset to only discharge summaries\n",
    "\n",
    "As you will see, notes has many different types of categories. We will want to grab only the Discharge summary"
   ]
  },
  {
   "cell_type": "code",
   "execution_count": 3,
   "metadata": {},
   "outputs": [
    {
     "data": {
      "text/plain": [
       "CATEGORY\n",
       "Nursing/other        822497\n",
       "Radiology            522279\n",
       "Nursing              223556\n",
       "ECG                  209051\n",
       "Physician            141624\n",
       "Discharge summary     59652\n",
       "Echo                  45794\n",
       "Respiratory           31739\n",
       "Nutrition              9418\n",
       "General                8301\n",
       "Rehab Services         5431\n",
       "Social Work            2670\n",
       "Case Management         967\n",
       "Pharmacy                103\n",
       "Consult                  98\n",
       "Name: count, dtype: int64"
      ]
     },
     "execution_count": 3,
     "metadata": {},
     "output_type": "execute_result"
    }
   ],
   "source": [
    "notes['CATEGORY'].value_counts()"
   ]
  },
  {
   "cell_type": "code",
   "execution_count": 4,
   "metadata": {},
   "outputs": [
    {
     "data": {
      "text/plain": [
       "(59652, 11)"
      ]
     },
     "execution_count": 4,
     "metadata": {},
     "output_type": "execute_result"
    }
   ],
   "source": [
    "discharges = notes[notes['CATEGORY'] == 'Discharge summary'].copy()\n",
    "discharges.shape"
   ]
  },
  {
   "attachments": {},
   "cell_type": "markdown",
   "metadata": {},
   "source": [
    "## Aggregate multiple discharge summaries\n",
    "\n",
    "About 21% of the notes population has more than 1 discharge summary for a visit, we will combine these notes to get only 1 discharge summary per visit. "
   ]
  },
  {
   "cell_type": "code",
   "execution_count": 5,
   "metadata": {},
   "outputs": [
    {
     "data": {
      "text/plain": [
       "'Percent of pop with more than 1 discharge summary for one visit: 21.20%'"
      ]
     },
     "execution_count": 5,
     "metadata": {},
     "output_type": "execute_result"
    }
   ],
   "source": [
    "gb = discharges.groupby(['SUBJECT_ID', 'HADM_ID'])['ROW_ID'].count()\n",
    "f\"Percent of pop with more than 1 discharge summary for one visit: {gb[gb > 1].sum() / discharges.shape[0] * 100:.2f}%\""
   ]
  },
  {
   "cell_type": "code",
   "execution_count": 6,
   "metadata": {},
   "outputs": [
    {
     "name": "stderr",
     "output_type": "stream",
     "text": [
      "100%|██████████| 59652/59652 [00:00<00:00, 1710946.99it/s]\n",
      "100%|██████████| 52726/52726 [00:00<00:00, 89175.67it/s]\n"
     ]
    },
    {
     "data": {
      "text/plain": [
       "(52726, 3)"
      ]
     },
     "execution_count": 6,
     "metadata": {},
     "output_type": "execute_result"
    }
   ],
   "source": [
    "# find text length and then sort dataframe by char length, we want the most informative notes to show first due to needing to truncate the data later\n",
    "discharges['TEXT_LEN'] = discharges['TEXT'].progress_apply(lambda x: len(x))\n",
    "discharges.sort_values('TEXT_LEN', ascending=False, inplace=True)\n",
    "\n",
    "discharges = discharges[['SUBJECT_ID', 'HADM_ID', 'TEXT']].drop_duplicates().groupby(['SUBJECT_ID', 'HADM_ID'])['TEXT'].progress_apply(lambda x: \" \".join(x)).reset_index()\n",
    "discharges.shape"
   ]
  },
  {
   "attachments": {},
   "cell_type": "markdown",
   "metadata": {},
   "source": [
    "Let's take a look at one example"
   ]
  },
  {
   "cell_type": "code",
   "execution_count": 7,
   "metadata": {},
   "outputs": [
    {
     "name": "stdout",
     "output_type": "stream",
     "text": [
      "Admission Date:  [**2143-7-8**]              Discharge Date:   [**2143-7-17**]\n",
      "\n",
      "Date of Birth:  [**2106-7-7**]             Sex:   M\n",
      "\n",
      "Service: MEDICINE\n",
      "\n",
      "Allergies:\n",
      "No Known Allergies / Adverse Drug Reactions\n",
      "\n",
      "Attending:[**First Name3 (LF) 2782**]\n",
      "Chief Complaint:\n",
      "Loose stool\n",
      "\n",
      "Major Surgical or Invasive Procedure:\n",
      "None\n",
      "\n",
      "History of Present Illness:\n",
      "Mr. [**Known lastname 65319**] is a 37M with a h/o IDDM, pancreatic insufficiency,\n",
      "and EtOH dependence who was admitted to the MICU for DKA and\n",
      "transferred to the medicine service for further management\n",
      "following gap closure. He reports loose stools and bilateral LE\n",
      "burning pain for many months, as well as non-bloody emesis and\n",
      "decreased PO intake for several days PTA. He was admitted most\n",
      "recently to [**Hospital1 18**] [**Date range (1) 65320**] for hyperglycemia (HA1c of 12.8),\n",
      "EtOH intoxication, and weight loss. At that time, his insulin\n",
      "regimen was changed to Lantus 25 units qam and Humalog SS [**First Name8 (NamePattern2) **]\n",
      "[**Last Name (un) **] recommendations. He indicates that he has not used\n",
      "insulin regularly since discharge, given his homelessness and\n",
      "limited access to supplies or food. Of note, it was his birthday\n",
      "on the day PTA, and he drank 2 beers; he denies ingestion of any\n",
      "other substances.\n",
      "\n",
      "In the ED, VS were as follows: 97.1 92 92/60 20 94% FS>350.\n",
      "Admission labs were notable for K of 3.7, glucose of 391, anion\n",
      "gap of 23, and lactate of 6.5. UA with 1k glucose. Serum and\n",
      "urine toxicity screens negative. Urine and blood cultures were\n",
      "obtained.  Patient received 40mg IV KCl, 5 units insulin IV and\n",
      "insulin gtt @ 5 units/hr, as well as IVNS with KCl @ 200\n",
      "cc/hour. Repeat lactate was 4.5 prior to admission to the MICU.\n",
      "\n",
      "\n",
      "\n",
      "Past Medical History:\n",
      "IDDM\n",
      "Pancreatitis x 2 in [**12-21**] and [**8-22**]\n",
      "HBV surface ag positivity\n",
      "Abnormal hemoglobin electropheresis in [**2136**]\n",
      "H. pylori on EGD biopsy\n",
      "Malaria as a child\n",
      "\n",
      "\n",
      "Social History:\n",
      "He grew up in [**Country **] and has lived in the United States since\n",
      "his mid-20s.\n",
      "2+ packs of cigarettes per week. EtOH as noted above. Denies\n",
      "illicit/IVDU.\n",
      "\n",
      ".\n",
      "\n",
      "\n",
      "Family History:\n",
      "Not addressed on this admission.\n",
      "\n",
      "\n",
      "Physical Exam:\n",
      "Exam on admission\n",
      "General: Alert, oriented, no acute distress\n",
      "HEENT: Sclera anicteric, EOMI, PERRL, dry MM, oropharynx clear\n",
      "no exudates, lesions or thrush\n",
      "Neck: supple, JVP not elevated, no LAD\n",
      "CV: Tachycardiac, normal S1 + S2, no murmurs, rubs, gallops\n",
      "Lungs: Clear to auscultation bilaterally, no wheezes, rales,\n",
      "ronchi\n",
      "Abdomen: soft, non-tender, non-distended, bowel sounds present,\n",
      "no organomegaly\n",
      "GU: no foley\n",
      "Ext: warm, well perfused, 2+ pulses, no clubbing, cyanosis or\n",
      "edema\n",
      "Neuro: CNII-XII intact, 5/5 strength upper/lower extremities,\n",
      "diminished sensation to level of bilateral ankles, gait\n",
      "deferred, finger-to-nose intact\n",
      "\n",
      "Exam at discharge\n",
      "General: Alert, oriented, no acute distress\n",
      "HEENT: Sclera anicteric, EOMI, PERRL, dry MM, oropharynx clear\n",
      "no exudates, lesions or thrush\n",
      "Neck: supple, JVP not elevated, no LAD\n",
      "CV: Tachycardiac, normal S1 + S2, no murmurs, rubs, gallops\n",
      "Lungs: Clear to auscultation bilaterally, no wheezes, rales,\n",
      "ronchi\n",
      "Abdomen: soft, non-tender, non-distended, bowel sounds present,\n",
      "no organomegaly\n",
      "GU: no foley\n",
      "Ext: warm, well perfused, 2+ pulses, no clubbing, cyanosis or\n",
      "edema\n",
      "Neuro: CNII-XII intact, 5/5 strength upper/lower extremities,\n",
      "diminished sensation to level of bilateral ankles, gait\n",
      "deferred, finger-to-nose intact\n",
      "\n",
      "\n",
      "Pertinent Results:\n",
      "Labs on admission\n",
      "CBC: 6/34.9/324\n",
      "Lytes: 141/3.7/94/24/10/0.4/351  AG 27  7.7/2.3/1.7\n",
      "LFTs: 26/28/0.2/144\n",
      "sTox: EtOH 183\n",
      "VBG: pO2-99 pCO2-37 pH-7.41 calTCO2-24 Base XS-0\n",
      "\n",
      "Labs at discharge\n",
      "CBC: 7.1/38.4/351\n",
      "Lytes: 131/4.4/95/26/13/0.4/196  AG 14  10/4.6/2\n",
      "\n",
      "Additional [**Hospital3 **]\n",
      "D-Dimer-177\n",
      "TSH-1.2\n",
      "BLOOD HIV Ab-NEGATIVE\n",
      "\n",
      "EKG [**2143-6-30**]\n",
      "Sinus rhythm. Left anterior fascicular block. Biatrial\n",
      "abnormality. Compared  to the previous tracing axis is slightly\n",
      "more leftward. The other findings are  similar.\n",
      "\n",
      "EKG [**2143-7-8**]\n",
      "Sinus rhythm. Left anterior fascicular block. Compared to the\n",
      "previous  tracing of [**2143-6-30**] decreased QRS voltage throughout,\n",
      "particularly in the  precordial leads and delayed R wave\n",
      "progression. Clinical correlation is suggested.\n",
      "\n",
      "EKG [**2143-7-12**]\n",
      "Normal sinus rhythm. Left atrial abnormality. Complete right\n",
      "bundle-branch block. Left anterior hemiblock. Compared to the\n",
      "previous tracing of [**2143-7-8**] there is now an incomplete right\n",
      "bundle-branch block.\n",
      "\n",
      "TTE [**2143-7-15**]\n",
      "The left atrium and right atrium are normal in cavity size. No\n",
      "atrial septal defect is seen by 2D or color Doppler. The\n",
      "estimated right atrial pressure is 0-5 mmHg. There is mild\n",
      "symmetric left ventricular hypertrophy with normal cavity size\n",
      "and regional/global systolic function (LVEF>55%). The estimated\n",
      "cardiac index is normal (>=2.5L/min/m2). Tissue Doppler imaging\n",
      "suggests a normal left ventricular filling pressure\n",
      "(PCWP<12mmHg). Right ventricular chamber size and free wall\n",
      "motion are normal. The diameters of aorta at the sinus,\n",
      "ascending and arch levels are normal. The aortic valve leaflets\n",
      "(3) appear structurally normal with good leaflet excursion and\n",
      "no aortic stenosis or aortic regurgitation. The mitral valve\n",
      "appears structurally normal with trivial mitral regurgitation.\n",
      "There is no mitral valve prolapse. The estimated pulmonary\n",
      "artery systolic pressure is normal. There is no pericardial\n",
      "effusion.\n",
      "\n",
      "IMPRESSION: Mild symmetric left ventricular hypertrophy with\n",
      "preserved global and regional biventricular systolic function.\n",
      "No valvular pathology or pathologic flow identified.\n",
      "\n",
      "\n",
      "\n",
      "\n",
      "Brief Hospital Course:\n",
      "Mr. [**Known lastname 65319**] is a 37M with a h/o IDDM, pancreatic insufficiency,\n",
      "and EtOH dependence who was admitted to the MICU for management\n",
      "of DKA and transferred to the medicine service for further\n",
      "management following gap closure.\n",
      "\n",
      "#IDDM: Patient with known h/o DM since [**2136**], including polyuria,\n",
      "polydypsia, polyphagia, and weight loss in the setting of HA1c\n",
      "of 12.8 on [**6-29**], found to have DKA  with elevated lactate on\n",
      "admission. He was admitted initially to the MICU, where he was\n",
      "treated with an insulin gtt until his gap closed and\n",
      "subsequently transitioned to SC insulin prior to transfer to the\n",
      "floor. With daily uptitration of Lantus and Humalog SS under\n",
      "[**Last Name (un) **] guidance, his glucose eventually remained 200s-300s\n",
      "throughout the course of the day on 60 units Lantus qam, 30\n",
      "units Lantus qpm, and a Humalog SS as follows:\n",
      "\n",
      "               Breakfast   Lunch   Dinner   Bedtime\n",
      "71-119 mg/dL   13u         13u     13u      0u\n",
      "120-159        18          18      18       0\n",
      "160-199        23          23      23       0\n",
      "200-239        28          28      28       4\n",
      "[**Telephone/Fax (2) 65321**]      33       6\n",
      "280-319        38          38      38       8\n",
      "[**Telephone/Fax (2) 65322**]      43       10\n",
      "[**Telephone/Fax (2) 65323**]      48       12\n",
      "\n",
      "Of note, his insulin regimen at discharge reflects ample PO\n",
      "intake in-hospital, and his dosing may require adjustment once\n",
      "his access to food becomes more limited, given his homelessness;\n",
      "at least in the initial post-discharge period, he will be\n",
      "staying at [**First Name8 (NamePattern2) 2048**] [**Last Name (NamePattern1) **] House, where his access to food and\n",
      "medication will be consistent.\n",
      "\n",
      "# Anion gap acidosis: Most likely multifactorial including\n",
      "lactic acidosis, alcoholic ketoacidosis, and DKA. Most prominent\n",
      "contributor likely DKA precipitated by medication noncompliance\n",
      "in the setting of EtOH abuse. Patient was without evidence of\n",
      "infection (UA negative, CXR wnl, afebrile with WBC wnl), active\n",
      "pancreatitis or other major illness that might have precipated\n",
      "DKA. Lactic acidosis likely secondary to hypoperfusion in the\n",
      "setting of loss (diarrhea, poor PO intake, polyuria). On\n",
      "presentation to ED, patient with anion gap of 23 and lactate of\n",
      "6.8; on arrival to MICU gap closed to 13 with lactate\n",
      "downtrending to 4.5. K was aggressively repleted and hydrated\n",
      "with D51/2NS with K. Thiamine was supplemented. Insulin gtt was\n",
      "started initially and then transitioned to subcutaneous insulin.\n",
      "\n",
      "\n",
      "#Tachycardia: Patient with known h/o sinus tachycardia on\n",
      "previous admission [**6-29**], as well as in the ED on [**2-17**], with\n",
      "persistent asymptomatic tachycardia to 100s at rest and\n",
      "120s-140s on ambulation. Despite IVF to correct osmotic diuresis\n",
      "[**1-17**] hyperglycemia, his tachycardia persisted. He remained\n",
      "afebrile/HD stable without leukocytosis or other signs of\n",
      "infection throughout admission, with negative D-dimer and normal\n",
      "TSH. Multiple EKGs demonstrated sinus tachycardia with\n",
      "incomplete RBB and L anterior hemiblock, but TTE was essentially\n",
      "negative for underlying pathology. Ultimately, his postural\n",
      "tachycardia was presumed [**1-17**] diabetic autonomic neuropathy,\n",
      "though his elevated HR at rest could not be explained\n",
      "completely. Beta blocker treatment was not not initiated on this\n",
      "admission, but may need to be readdressed on PCP [**Name9 (PRE) 702**] if\n",
      "tachycardia persists.\n",
      "\n",
      "#Anemia: Patient with chronically low MCV p/w microcytic anemia\n",
      "(Hct 34.9, MCV 80)  in the setting of low Fe (31) with normal\n",
      "ferritin and TIBC. Ferrous sulfate was initiated and increased\n",
      "to 325mg [**Hospital1 **] by the time of discharge. Hct remained stable\n",
      "(35-39) throughout admission.\n",
      "\n",
      "#Peripheral Neuropathy: Patient with known bilateral LE burning\n",
      "pain and paresthesias p/w persistent symptoms without focal\n",
      "neurologic deficits, with the exception of decreased sensation.\n",
      "Gabapentin 300mg tid was uptitrated to 600mg tid and\n",
      "amitriptyline 100mg daily was continued; further uptitration may\n",
      "be considered on PCP [**Last Name (NamePattern4) 702**].\n",
      "\n",
      "#EtOH dependence: Patient with known EtOH dependence, but no h/o\n",
      "withdrawl seizures or LOC; he claims not to drink more than 2\n",
      "beers at a time. He did not score on CIWA throughout admission.\n",
      "He will be discharged to [**First Name8 (NamePattern2) 2048**] [**Last Name (NamePattern1) **] House, where he may\n",
      "continue to receive further counseling.\n",
      "\n",
      "#Pancreatic insufficiency: Patient with known h/o pancreatic\n",
      "insufficiency in the setting of poorly controlled diabetes p/w\n",
      "chronically loose stools. LFTs were normal, and HIV and stool C.\n",
      "difficile were negative on this admission. Creon was uptitrated\n",
      "on this admission to 4 caps per meal, and his stool remains\n",
      "formed.\n",
      "\n",
      "#Transitional issues:\n",
      "-IDDM: Follow-up arranged with Dr. [**Last Name (STitle) **] at [**Last Name (un) **] at 9am on\n",
      "[**2143-7-25**].\n",
      "-Tachycardia: [**Month (only) 116**] consider beta blocker on PCP [**Name9 (PRE) 702**] if\n",
      "persistent.\n",
      "-Anemia: Will need CBC and Fe studies on PCP [**Name9 (PRE) 702**] to avoid\n",
      "Fe overload and exclude other causes of anemia.\n",
      "-Peripheral neuropathy: [**Month (only) 116**] consider uptitration of gabapentin\n",
      "on PCP [**Name9 (PRE) 702**] if symptoms persist.\n",
      "-EtOh dependence, homelessness: Discharged to [**First Name8 (NamePattern2) 2048**] [**Last Name (NamePattern1) **]\n",
      "House.\n",
      "-Pancreatic insufficiency: [**Month (only) 116**] need uptitration of Creon on PCP\n",
      "[**Name9 (PRE) 702**] if symptoms persist.\n",
      "\n",
      "\n",
      "Medications on Admission:\n",
      "1. Gabapentin 300 mg PO TID\n",
      "2. Acetaminophen 325-650 mg PO Q6H:PRN pain, fever\n",
      "3. Amitriptyline 100 mg PO HS\n",
      "4. FoLIC Acid 1 mg PO DAILY\n",
      "5. Thiamine 100 mg IV DAILY Duration: 1 Days\n",
      "6. Creon 12 2 CAP PO QIDWMHS\n",
      "7. Glargine 25 Units Breakfast\n",
      "Insulin SC Sliding Scale using UNK Insulin\n",
      "\n",
      "\n",
      "Discharge Medications:\n",
      "1. Amitriptyline 100 mg PO HS\n",
      "2. Thiamine 100 mg IV DAILY Duration: 1 Days\n",
      "3. Acetaminophen 325-650 mg PO Q6H:PRN pain, fever\n",
      "4. Creon 12 4 CAP PO QIDWMHS\n",
      "5. FoLIC Acid 1 mg PO DAILY\n",
      "6. Gabapentin 600 mg PO TID\n",
      "7. Glargine 60 Units Breakfast\n",
      "Glargine 30 Units Bedtime\n",
      "Insulin SC Sliding Scale using HUM Insulin\n",
      "8. Loperamide 2 mg PO QID:PRN diarrhea\n",
      "\n",
      "\n",
      "Discharge Disposition:\n",
      "Extended Care\n",
      "\n",
      "Facility:\n",
      "[**First Name8 (NamePattern2) 2048**] [**Last Name (NamePattern1) 11015**] House\n",
      "\n",
      "Discharge Diagnosis:\n",
      "Diabetic Ketoacidosis, Uncontrolled Insulin Dependent Diabetes,\n",
      "Pancreatic Insufficiency, Diabetic Neuropathy, Iron Deficiency\n",
      "Anemia, Tachycardia\n",
      "\n",
      "\n",
      "Discharge Condition:\n",
      "Improved, mental status at baseline, ambulatory\n",
      "\n",
      "\n",
      "Discharge Instructions:\n",
      "Mr. [**Known lastname 65319**], it was a pleasure to participate in your care at\n",
      "[**Hospital1 18**].  You were admitted for diabetic ketoacidosis, a very\n",
      "dangerous complication of uncontrolled diabetes. You were\n",
      "treated with insulin in the intensive care unit and then on a\n",
      "regular medical floor. You were seen by the [**Last Name (un) **] Diabetes\n",
      "Center team, and you will have a follow up appointment with Dr.\n",
      "[**Last Name (STitle) **] on [**2143-7-25**] at 9 am. You also were noted to have diarrhea in\n",
      "the hospital, which is due to pancreatic insufficiency. You were\n",
      "treated for this with Creon (enzyme replacement) and your\n",
      "diarrhea improved. For the pain in your legs, your dosage of\n",
      "gabapentin was gradually raised to 600mg three times daily. In\n",
      "the hospital you also were noted to have a persistently fast\n",
      "heart rate and abnormal electrical activity in your heart. You\n",
      "underwent imaging of your heart, which showed an essenially\n",
      "normal heart. The following changes were made to your\n",
      "medications: Creon dose increased to 4 caps daily, gabapentin\n",
      "dose increased to 600mg three times daily, insulin lantus\n",
      "increased to 60 units in the morning and 30 units in the\n",
      "evening, with an insulin sliding scale. For your iron deficiency\n",
      "anemia, you were started on iron supplements. It is very\n",
      "important that you continue to take your Lantus even if you are\n",
      "not going to eat very much.  Your insulin will still be good\n",
      "even if it is not refrigerated. In addition to following up at\n",
      "the [**Last Name (un) **] Diabetes Center, you should follow up with your\n",
      "primary care doctor [**First Name (Titles) **] [**Last Name (Titles) 2177**].\n",
      "\n",
      "Followup Instructions:\n",
      "Name: [**Last Name (LF) **], [**First Name3 (LF) 16433**] O. MD\n",
      "Location: [**Last Name (un) **] DIABETES CENTER\n",
      "When: Thursday [**7-25**] at 9 am\n",
      "Address: ONE [**Last Name (un) **] CENTER, [**Location (un) **],[**Numeric Identifier 718**]\n",
      "Phone: [**Telephone/Fax (1) 3402**]\n",
      "\n",
      "Name: [**Last Name (LF) **],[**First Name3 (LF) **] R\n",
      "When: Tuesday [**7-23**] at 3pm\n",
      "Location: [**Hospital1 2177**]-FAMILY MEDICINE DEPT\n",
      "Address: 1 [**Hospital6 **] PLAZA, [**Location (un) **],[**Numeric Identifier 5138**]\n",
      "Phone: [**Telephone/Fax (1) 65318**]\n",
      "\n",
      "\n",
      "\n",
      "\n"
     ]
    }
   ],
   "source": [
    "import numpy as np\n",
    "print(discharges.iloc[np.random.randint(0, discharges.shape[0])]['TEXT'])"
   ]
  },
  {
   "attachments": {},
   "cell_type": "markdown",
   "metadata": {},
   "source": [
    "## Remove unnecessary tokens\n",
    "\n",
    "The paper did not mention how they tokenized the text, so we will need to create our own tokenization process. You will notice that some information from the notes is omitted, like the name of the patient, the dates, the doctor name, and the hospital's name. \n",
    "\n",
    "This information will not be useful for our purposes, logically speaking the name of the patient, doctor, hospital, or dates by themselves should not be indicators of what ICD9 codes will be diagnosed. These will be considered stop words for the tokenization process.\n",
    "\n",
    "Secondly, we will lowercase the words - this will decrease our vocab size. \n",
    "\n",
    "Third, we will remove all punctuation and extra white space from the text. This is done for the same reason, to reduce our vocab size and size of our notes. Punction would be considered stop words for the SVM model and we want to only consider words for our Word2Vec and Doc2Vec models. This approach will have problems, it will treat e.coli as \"e\" and \"coli\" when we perhaps would want to treat it as one token. \n",
    "\n",
    "Fourth, we will remove all numbers. Individual numbers themselves should not present a signficant advantage for word2vec, as many numbers are measurements from the patient. We will strictly remove timestamps as well (ie 10:01PM)\n",
    "\n",
    "Creating a better tokenizer could be the next steps of this project, but I opted for a simpiler regex solution. "
   ]
  },
  {
   "cell_type": "code",
   "execution_count": 8,
   "metadata": {},
   "outputs": [
    {
     "name": "stderr",
     "output_type": "stream",
     "text": [
      "100%|██████████| 52726/52726 [00:00<00:00, 97052.84it/s] \n",
      "100%|██████████| 52726/52726 [00:21<00:00, 2427.63it/s]\n",
      "100%|██████████| 52726/52726 [00:05<00:00, 8885.08it/s] \n",
      "100%|██████████| 52726/52726 [00:23<00:00, 2258.94it/s]\n",
      "100%|██████████| 52726/52726 [00:10<00:00, 5183.06it/s]\n"
     ]
    },
    {
     "data": {
      "text/plain": [
       "' sex f service medicine allergies penicillins percocet attending chief complaint htn abdominal pain major surgical or invasive procedure none history of present illness f with esrd on hd sle malignant htn history of svc syndrome pres recently discharged on after admission for abdominal pain mssa bacteremia paroxysmal hypertension and esrd line followed by readmission now presents with usual central crpy abdominal pain loose nonbloody stools this sob and htn to s pt was d c d from yesterday after hd session went home states she took her meds took her medds hydral labetalol then developed these symptoms which precluded her from taking her usual home meds no afternoon meds nifedipine labetalol hydral the abd pain comes and goes and is unchanged from her baseline while she has nausea she is asking for dinner in the ed initial bp cxr w o evidence of volume overload no ct scan performed started on ntg gtt given hydralazine x dilaudid labetaolo iv x upon arrival to the floor her bp was she continued to complain of abdominal pain but was eating crackers breathing felt better rr past medical history systemic lupus erythematosus since age complicated by uveitis and end stage renal disease since s p treatment with cyclophosphide and mycophenolate and now maintained on prednisone ckd esrd diagnosed in and has previously been on pd and now hd with intermittent refusal of currently only agrees to be dialyzed one time wk malignant hypertension with baseline sbp s s s and history of hypertensive crisis with seizures thrombocytopenia thrombotic events with negative hypercoagulability work up svc thrombosis related to a catheter negative lupus anticoagulant negative anticardiolipin antibodies igg and igm x negative beta glycoprotein antibody hocm last noted on echo anemia history of left eye enucleation for fungal infection history of vaginal bleeding lasting months s p depoprovera injection requiring transfusion history of coag negative staph bacteremia and hd line infection and thrombotic microangiopathy obstructive sleep apnea on cpap left abdominal wall hematoma mssa bacteremia associated with hd line pericardial effusion cin i noted in not further worked up due to frequent hospitalizations and inability to see in outpatient setting social history denies any substance abuse etoh tobacco illicits she lives with her mother on disability for multiple medical problems fily history no known autoimmune disease but there is a history of cardiovascular disease and cerebrovascular accident in her grandfather physical ex on l nc gen pleasant comfortable heent l eye enucleated moon facies right pupil reactive heart hrrr no m r g pulm cta b l abd nabs midline scar well healed soft diffuse ttp no rebound guarding ext no c c e neuro aox cn intact grossly pertinent results pt ptt inr pt urine color yellow appear clear sp urine blood neg nitrite neg protein glucose neg ketone neg bilirubin neg urobilngn neg ph leuk neg urine rbc wbc bacteria few yeast none epi glucose urea n creat sodium potassium chloride total co anion gap alt sgpt ast sgot ck cpk alk phos tot bili ctropnt ck mb wbc rbc hgb hct mcv mch mchc rdw neuts bands lymphs monos eos basos hypochrom normal anisocyt poikilocy macrocyt microcyt polychrom occasional spherocyt occasional ovalocyt target schistocy occasional teardrop elliptocy occasional plt smr low plt count glucose urea n creat sodium potassium chloride total co anion gap estgfr using this calcium phosphate magnesium wbc rbc hgb hct mcv mch mchc rdw plt count pt ptt inr pt brief hospital course the patient was admitted to the micu on a ntg gtt from the ed her abdominal pain had imporved and she was eating crackers and peanut butter she was given her usual afternoon home medications and transitioned to a nicardipine gtt which has worked well for her in the past her bp goal was for a systolic of the nicardipine gtt was titrated off quickly and she was transfered to the floor on arrival to the floor she in fact missed her morning medications on this resulted in elevate blood pressures requiring iv hydralazing for control she went to dialyisis tuesday and again had markedly elevated blood pressures while at from missing her doses instructions were written for explicit administration and nifedipine long acting was added at night in addition to the long acting she was taking in the morning she was continued on labetalol tid aliskerin hydralazine po tid and clonidine patch weekly patch her bp remained relativly stable she established a three three times weekly dialysus regemin a pap smear was attempted due to her history of cin i and no pcp follow up but was unsucesfull due to a very small vaginal introutus and no small specuilum available her abdominal pain was also a chronic issue which appeared stable she was not administered iv narcotics only po it was wihtout clear percipitating events or etiology she will need gi follow up she was contact by phone several times to arrange a gi follow up appointment but did not return messages she has a history of multiple missed appointments and no appoitment was made without confirming with the patient that she would attend she was discharged to followup with her nephrologist dr medications on admission clonidine hr patch weekly sig one patch weekly transdermal qwed every wednesday prednisone tablet sig four tablet po daily daily pantoprazole tablet delayed release e c sig one tablet delayed release e c po qh every hours warfarin tablet sig three tablet po once daily at clonidine hr patch weekly sig one patch weekly transdermal qwed every wednesday hydralazine tablet sig two tablet po tid times a day labetalol tablet sig tablets po tid times a day nifedipine tablet sustained release sig one tablet sustained release po daily daily aliskiren tablet sig one tablet po bid hydromorphone tablet sig tablets po qh every hours as needed for abdominal pain acetinophen tablet sig tablets po qh every hours as needed citalopr tablet sig one tablet po daily ondansetron tablet rapid dissolve sig one tablet rapid dissolve po three times a day as needed for nausea for days discharge medications pantoprazole tablet delayed release e c sig one tablet delayed release e c po qh every hours tablet delayed release e c s refills citalopr tablet sig one tablet po daily daily tablet s refills prednisone tablet sig four tablet po daily daily tablet s refills labetalol tablet sig tablets po tid times a day tablet s refills hydralazine tablet sig two tablet po qh every hours tablet s refills nifedipine tablet sustained release sig one tablet sustained release po hs at bedtime tablet sustained release s refills nifedipine tablet sustained release sig one tablet sustained release po daily daily tablet sustained release s refills aliskiren tablet sig one tablet po bid tablet s refills clonidine hr patch weekly sig two patches transdermal once a week place two patches every week on fridays patches refills dilaudid tablet sig tablets po every hours tablet s refills clonidine tablet sig one tablet po twice a day as needed for prn sbp if nauseated and cannot keep down meds may use sublingual clonidine if sbp tablet s refills kayexalate powder sig thirty grs po once a day for days please take and for elevated potassium grs refills discharge disposition home with service facility vna discharge diagnosis systemic lupus erythematosus end stage renal disease hypertension abdominal pain discharge condition blood pressure stable and abdominal pain at baseline discharge instructions you were admitted with high blood pressure you were in the icu overnight for treatment some of your medications were changed and you were increased to three times weekly your abdominal pain is a difficult problem as the reason for the pain is unclear were continued on oral dilaudid iv dilaudid is strongly discouraged and will continue to be in the future you are now taking nifedipine sr at night in addition to in the morning your other medications were the se at home if your blood pressure is above then take hydralazine if after hour your blood pressure does not decrease to below with this then take another hydralazine if you are nauseated and cannot take in oral meds then take sublingual clonidine then wait hour and repeat if bp still finally your potassium has been high please take kayexalate gm tomorrow and the next day followup instructions provider schedule hemodialysis unit date time provider call to schedule appointment we will attempt to contact you on with appointment times for you '"
      ]
     },
     "execution_count": 8,
     "metadata": {},
     "output_type": "execute_result"
    }
   ],
   "source": [
    "# lowercase\n",
    "discharges['TEXT'] = discharges['TEXT'].progress_apply(lambda x: x.lower())\n",
    "\n",
    "# remove #1, #3\n",
    "p = re.compile(\"(\\[\\*\\*.+?\\*\\*\\])|([0-9]{1,2}:[0-9]{2}([AaPp][Mm]){0,1})|([!\\\"#$%&\\'()*+,-./:;<=>?@\\\\\\[\\]^_`{|}~])\")\n",
    "s = re.compile(\"\\s+\") # replace excessive white space with one space\n",
    "n = re.compile('[0-9]+') # replace numbers\n",
    "w = re.compile('(admission\\sdate)|(discharge\\sdate)|(date\\sof\\sbirth)|(pm)|(am)|(mg)') # remove common words\n",
    "discharges['TEXT'] = discharges['TEXT'].progress_apply(lambda x: p.sub(' ', x)).progress_apply(lambda x: n.sub('', x)).progress_apply(lambda x: w.sub('', x)).progress_apply(lambda x: s.sub(' ', x))\n",
    "discharges['TEXT'].iloc[100,]"
   ]
  },
  {
   "attachments": {},
   "cell_type": "markdown",
   "metadata": {},
   "source": [
    "Let's look at the statistics"
   ]
  },
  {
   "cell_type": "code",
   "execution_count": 9,
   "metadata": {},
   "outputs": [
    {
     "name": "stderr",
     "output_type": "stream",
     "text": [
      "100%|██████████| 52726/52726 [00:04<00:00, 10924.65it/s]\n",
      "100%|██████████| 52726/52726 [00:00<00:00, 1481833.78it/s]\n"
     ]
    },
    {
     "data": {
      "text/plain": [
       "mean      1429.026268\n",
       "median    1295.000000\n",
       "std        734.938508\n",
       "max       8148.000000\n",
       "min         28.000000\n",
       "Name: toks, dtype: float64"
      ]
     },
     "execution_count": 9,
     "metadata": {},
     "output_type": "execute_result"
    }
   ],
   "source": [
    "discharges['toks'] = discharges['TEXT'].progress_apply(lambda x: x.split())\n",
    "toks_len = discharges['toks'].progress_apply(lambda x: len(x))\n",
    "toks_len.agg(['mean', 'median', 'std', 'max', 'min'])"
   ]
  },
  {
   "cell_type": "code",
   "execution_count": 10,
   "metadata": {},
   "outputs": [],
   "source": [
    "# save if needed\n",
    "discharges.to_parquet('discharges.pq')"
   ]
  },
  {
   "attachments": {},
   "cell_type": "markdown",
   "metadata": {},
   "source": [
    "Our tokenizer is similar enough with the counts listed in the paper, we will stop the tokenization process here"
   ]
  },
  {
   "attachments": {},
   "cell_type": "markdown",
   "metadata": {},
   "source": [
    "## Load in ICD9 Diagnosis"
   ]
  },
  {
   "cell_type": "code",
   "execution_count": 11,
   "metadata": {},
   "outputs": [
    {
     "data": {
      "text/html": [
       "<div>\n",
       "<style scoped>\n",
       "    .dataframe tbody tr th:only-of-type {\n",
       "        vertical-align: middle;\n",
       "    }\n",
       "\n",
       "    .dataframe tbody tr th {\n",
       "        vertical-align: top;\n",
       "    }\n",
       "\n",
       "    .dataframe thead th {\n",
       "        text-align: right;\n",
       "    }\n",
       "</style>\n",
       "<table border=\"1\" class=\"dataframe\">\n",
       "  <thead>\n",
       "    <tr style=\"text-align: right;\">\n",
       "      <th></th>\n",
       "      <th>ROW_ID</th>\n",
       "      <th>SUBJECT_ID</th>\n",
       "      <th>HADM_ID</th>\n",
       "      <th>SEQ_NUM</th>\n",
       "      <th>ICD9_CODE</th>\n",
       "    </tr>\n",
       "  </thead>\n",
       "  <tbody>\n",
       "    <tr>\n",
       "      <th>0</th>\n",
       "      <td>1297</td>\n",
       "      <td>109</td>\n",
       "      <td>172335</td>\n",
       "      <td>1.0</td>\n",
       "      <td>40301</td>\n",
       "    </tr>\n",
       "    <tr>\n",
       "      <th>1</th>\n",
       "      <td>1298</td>\n",
       "      <td>109</td>\n",
       "      <td>172335</td>\n",
       "      <td>2.0</td>\n",
       "      <td>486</td>\n",
       "    </tr>\n",
       "    <tr>\n",
       "      <th>2</th>\n",
       "      <td>1299</td>\n",
       "      <td>109</td>\n",
       "      <td>172335</td>\n",
       "      <td>3.0</td>\n",
       "      <td>58281</td>\n",
       "    </tr>\n",
       "    <tr>\n",
       "      <th>3</th>\n",
       "      <td>1300</td>\n",
       "      <td>109</td>\n",
       "      <td>172335</td>\n",
       "      <td>4.0</td>\n",
       "      <td>5855</td>\n",
       "    </tr>\n",
       "    <tr>\n",
       "      <th>4</th>\n",
       "      <td>1301</td>\n",
       "      <td>109</td>\n",
       "      <td>172335</td>\n",
       "      <td>5.0</td>\n",
       "      <td>4254</td>\n",
       "    </tr>\n",
       "  </tbody>\n",
       "</table>\n",
       "</div>"
      ],
      "text/plain": [
       "   ROW_ID  SUBJECT_ID  HADM_ID  SEQ_NUM ICD9_CODE\n",
       "0    1297         109   172335      1.0     40301\n",
       "1    1298         109   172335      2.0       486\n",
       "2    1299         109   172335      3.0     58281\n",
       "3    1300         109   172335      4.0      5855\n",
       "4    1301         109   172335      5.0      4254"
      ]
     },
     "execution_count": 11,
     "metadata": {},
     "output_type": "execute_result"
    }
   ],
   "source": [
    "diag_raw = pd.read_csv(data_url + 'DIAGNOSES_ICD.csv')\n",
    "diag = diag_raw[diag_raw['ICD9_CODE'].notna()].copy()\n",
    "diag.head()"
   ]
  },
  {
   "cell_type": "code",
   "execution_count": 12,
   "metadata": {},
   "outputs": [
    {
     "name": "stderr",
     "output_type": "stream",
     "text": [
      "100%|██████████| 58929/58929 [00:02<00:00, 24624.21it/s]\n"
     ]
    },
    {
     "data": {
      "text/html": [
       "<div>\n",
       "<style scoped>\n",
       "    .dataframe tbody tr th:only-of-type {\n",
       "        vertical-align: middle;\n",
       "    }\n",
       "\n",
       "    .dataframe tbody tr th {\n",
       "        vertical-align: top;\n",
       "    }\n",
       "\n",
       "    .dataframe thead th {\n",
       "        text-align: right;\n",
       "    }\n",
       "</style>\n",
       "<table border=\"1\" class=\"dataframe\">\n",
       "  <thead>\n",
       "    <tr style=\"text-align: right;\">\n",
       "      <th></th>\n",
       "      <th>SUBJECT_ID</th>\n",
       "      <th>HADM_ID</th>\n",
       "      <th>ICD9_CODE</th>\n",
       "    </tr>\n",
       "  </thead>\n",
       "  <tbody>\n",
       "    <tr>\n",
       "      <th>0</th>\n",
       "      <td>2</td>\n",
       "      <td>163353</td>\n",
       "      <td>[V3001, V053, V290]</td>\n",
       "    </tr>\n",
       "    <tr>\n",
       "      <th>1</th>\n",
       "      <td>3</td>\n",
       "      <td>145834</td>\n",
       "      <td>[0389, 78559, 5849, 4275, 41071, 4280, 6826, 4...</td>\n",
       "    </tr>\n",
       "    <tr>\n",
       "      <th>2</th>\n",
       "      <td>4</td>\n",
       "      <td>185777</td>\n",
       "      <td>[042, 1363, 7994, 2763, 7907, 5715, 04111, V09...</td>\n",
       "    </tr>\n",
       "    <tr>\n",
       "      <th>3</th>\n",
       "      <td>5</td>\n",
       "      <td>178980</td>\n",
       "      <td>[V3000, V053, V290]</td>\n",
       "    </tr>\n",
       "    <tr>\n",
       "      <th>4</th>\n",
       "      <td>6</td>\n",
       "      <td>107064</td>\n",
       "      <td>[40391, 4440, 9972, 2766, 2767, 2859, 2753, V1...</td>\n",
       "    </tr>\n",
       "  </tbody>\n",
       "</table>\n",
       "</div>"
      ],
      "text/plain": [
       "   SUBJECT_ID  HADM_ID                                          ICD9_CODE\n",
       "0           2   163353                                [V3001, V053, V290]\n",
       "1           3   145834  [0389, 78559, 5849, 4275, 41071, 4280, 6826, 4...\n",
       "2           4   185777  [042, 1363, 7994, 2763, 7907, 5715, 04111, V09...\n",
       "3           5   178980                                [V3000, V053, V290]\n",
       "4           6   107064  [40391, 4440, 9972, 2766, 2767, 2859, 2753, V1..."
      ]
     },
     "execution_count": 12,
     "metadata": {},
     "output_type": "execute_result"
    }
   ],
   "source": [
    "diag = diag.groupby(['SUBJECT_ID', 'HADM_ID'])['ICD9_CODE'].progress_apply(lambda x: list(x)).reset_index()\n",
    "diag.head()"
   ]
  },
  {
   "attachments": {},
   "cell_type": "markdown",
   "metadata": {},
   "source": [
    "## Check the Occurances of ICD9 codes"
   ]
  },
  {
   "cell_type": "code",
   "execution_count": 13,
   "metadata": {},
   "outputs": [
    {
     "data": {
      "text/plain": [
       "array(['0030', '0031', '0038', ..., 'V9081', 'V9089', 'V9103'],\n",
       "      dtype=object)"
      ]
     },
     "execution_count": 13,
     "metadata": {},
     "output_type": "execute_result"
    }
   ],
   "source": [
    "from sklearn.preprocessing import MultiLabelBinarizer\n",
    "mlb = MultiLabelBinarizer()\n",
    "y = mlb.fit_transform(diag['ICD9_CODE'].to_list())\n",
    "mlb.classes_"
   ]
  },
  {
   "cell_type": "code",
   "execution_count": 14,
   "metadata": {},
   "outputs": [
    {
     "data": {
      "text/plain": [
       "Text(0, 0.5, 'Frequency')"
      ]
     },
     "execution_count": 14,
     "metadata": {},
     "output_type": "execute_result"
    },
    {
     "data": {
      "image/png": "[encoded data removed]",
      "text/plain": [
       "<Figure size 640x480 with 1 Axes>"
      ]
     },
     "metadata": {},
     "output_type": "display_data"
    }
   ],
   "source": [
    "codes = pd.Series(dict(zip(mlb.classes_, np.sum(y, axis=0))))\n",
    "ax = codes.hist(bins=np.arange(0,100, 1))\n",
    "ax.set_xlabel('Occurrence Count')\n",
    "ax.set_ylabel('Frequency')"
   ]
  },
  {
   "attachments": {},
   "cell_type": "markdown",
   "metadata": {},
   "source": [
    "As you can see many codes have 20 or less examples, to speed up training we will ignore codes that occur less than 50 times. \n",
    "\n",
    "The authors of the DeepLabeler trained a model to handle labeling all codes, but when there is less than 50 positive cases you are going to have a very small training set. We will now remove all codes that occur less than 50 times, when we do a test/train split of 80/20 we will have on average 10 test samples. "
   ]
  },
  {
   "cell_type": "code",
   "execution_count": 15,
   "metadata": {},
   "outputs": [
    {
     "data": {
      "text/plain": [
       "1292"
      ]
     },
     "execution_count": 15,
     "metadata": {},
     "output_type": "execute_result"
    }
   ],
   "source": [
    "valid_codes = codes[codes > 50].index.to_list()\n",
    "len(valid_codes)"
   ]
  },
  {
   "cell_type": "code",
   "execution_count": 16,
   "metadata": {},
   "outputs": [
    {
     "data": {
      "text/html": [
       "<div>\n",
       "<style scoped>\n",
       "    .dataframe tbody tr th:only-of-type {\n",
       "        vertical-align: middle;\n",
       "    }\n",
       "\n",
       "    .dataframe tbody tr th {\n",
       "        vertical-align: top;\n",
       "    }\n",
       "\n",
       "    .dataframe thead th {\n",
       "        text-align: right;\n",
       "    }\n",
       "</style>\n",
       "<table border=\"1\" class=\"dataframe\">\n",
       "  <thead>\n",
       "    <tr style=\"text-align: right;\">\n",
       "      <th></th>\n",
       "      <th>ROW_ID</th>\n",
       "      <th>SUBJECT_ID</th>\n",
       "      <th>HADM_ID</th>\n",
       "      <th>SEQ_NUM</th>\n",
       "      <th>ICD9_CODE</th>\n",
       "    </tr>\n",
       "  </thead>\n",
       "  <tbody>\n",
       "    <tr>\n",
       "      <th>0</th>\n",
       "      <td>1297</td>\n",
       "      <td>109</td>\n",
       "      <td>172335</td>\n",
       "      <td>1.0</td>\n",
       "      <td>40301</td>\n",
       "    </tr>\n",
       "    <tr>\n",
       "      <th>1</th>\n",
       "      <td>1298</td>\n",
       "      <td>109</td>\n",
       "      <td>172335</td>\n",
       "      <td>2.0</td>\n",
       "      <td>486</td>\n",
       "    </tr>\n",
       "    <tr>\n",
       "      <th>2</th>\n",
       "      <td>1299</td>\n",
       "      <td>109</td>\n",
       "      <td>172335</td>\n",
       "      <td>3.0</td>\n",
       "      <td>58281</td>\n",
       "    </tr>\n",
       "    <tr>\n",
       "      <th>3</th>\n",
       "      <td>1300</td>\n",
       "      <td>109</td>\n",
       "      <td>172335</td>\n",
       "      <td>4.0</td>\n",
       "      <td>5855</td>\n",
       "    </tr>\n",
       "    <tr>\n",
       "      <th>4</th>\n",
       "      <td>1301</td>\n",
       "      <td>109</td>\n",
       "      <td>172335</td>\n",
       "      <td>5.0</td>\n",
       "      <td>4254</td>\n",
       "    </tr>\n",
       "  </tbody>\n",
       "</table>\n",
       "</div>"
      ],
      "text/plain": [
       "   ROW_ID  SUBJECT_ID  HADM_ID  SEQ_NUM ICD9_CODE\n",
       "0    1297         109   172335      1.0     40301\n",
       "1    1298         109   172335      2.0       486\n",
       "2    1299         109   172335      3.0     58281\n",
       "3    1300         109   172335      4.0      5855\n",
       "4    1301         109   172335      5.0      4254"
      ]
     },
     "execution_count": 16,
     "metadata": {},
     "output_type": "execute_result"
    }
   ],
   "source": [
    "valid_codes = codes[codes > 50].index.to_list()\n",
    "diag = diag_raw[diag_raw['ICD9_CODE'].notna() & diag_raw['ICD9_CODE'].isin(valid_codes)]\n",
    "diag.head()"
   ]
  },
  {
   "cell_type": "code",
   "execution_count": 17,
   "metadata": {},
   "outputs": [
    {
     "name": "stderr",
     "output_type": "stream",
     "text": [
      "100%|██████████| 58796/58796 [00:01<00:00, 33270.20it/s]\n"
     ]
    },
    {
     "data": {
      "text/html": [
       "<div>\n",
       "<style scoped>\n",
       "    .dataframe tbody tr th:only-of-type {\n",
       "        vertical-align: middle;\n",
       "    }\n",
       "\n",
       "    .dataframe tbody tr th {\n",
       "        vertical-align: top;\n",
       "    }\n",
       "\n",
       "    .dataframe thead th {\n",
       "        text-align: right;\n",
       "    }\n",
       "</style>\n",
       "<table border=\"1\" class=\"dataframe\">\n",
       "  <thead>\n",
       "    <tr style=\"text-align: right;\">\n",
       "      <th></th>\n",
       "      <th>SUBJECT_ID</th>\n",
       "      <th>HADM_ID</th>\n",
       "      <th>ICD9_CODE</th>\n",
       "    </tr>\n",
       "  </thead>\n",
       "  <tbody>\n",
       "    <tr>\n",
       "      <th>0</th>\n",
       "      <td>2</td>\n",
       "      <td>163353</td>\n",
       "      <td>[V3001, V053, V290]</td>\n",
       "    </tr>\n",
       "    <tr>\n",
       "      <th>1</th>\n",
       "      <td>3</td>\n",
       "      <td>145834</td>\n",
       "      <td>[0389, 78559, 5849, 4275, 41071, 4280, 6826, 4...</td>\n",
       "    </tr>\n",
       "    <tr>\n",
       "      <th>2</th>\n",
       "      <td>4</td>\n",
       "      <td>185777</td>\n",
       "      <td>[042, 1363, 7994, 2763, 7907, 5715, 04111, V090]</td>\n",
       "    </tr>\n",
       "    <tr>\n",
       "      <th>3</th>\n",
       "      <td>5</td>\n",
       "      <td>178980</td>\n",
       "      <td>[V3000, V053, V290]</td>\n",
       "    </tr>\n",
       "    <tr>\n",
       "      <th>4</th>\n",
       "      <td>6</td>\n",
       "      <td>107064</td>\n",
       "      <td>[40391, 4440, 9972, 2766, 2767, 2859, 2753, V1...</td>\n",
       "    </tr>\n",
       "  </tbody>\n",
       "</table>\n",
       "</div>"
      ],
      "text/plain": [
       "   SUBJECT_ID  HADM_ID                                          ICD9_CODE\n",
       "0           2   163353                                [V3001, V053, V290]\n",
       "1           3   145834  [0389, 78559, 5849, 4275, 41071, 4280, 6826, 4...\n",
       "2           4   185777   [042, 1363, 7994, 2763, 7907, 5715, 04111, V090]\n",
       "3           5   178980                                [V3000, V053, V290]\n",
       "4           6   107064  [40391, 4440, 9972, 2766, 2767, 2859, 2753, V1..."
      ]
     },
     "execution_count": 17,
     "metadata": {},
     "output_type": "execute_result"
    }
   ],
   "source": [
    "diag = diag.groupby(['SUBJECT_ID', 'HADM_ID'])['ICD9_CODE'].progress_apply(lambda x: list(x)).reset_index()\n",
    "diag.head()"
   ]
  },
  {
   "cell_type": "code",
   "execution_count": 18,
   "metadata": {},
   "outputs": [
    {
     "name": "stdout",
     "output_type": "stream",
     "text": [
      "(52622, 5)\n"
     ]
    },
    {
     "data": {
      "text/html": [
       "<div>\n",
       "<style scoped>\n",
       "    .dataframe tbody tr th:only-of-type {\n",
       "        vertical-align: middle;\n",
       "    }\n",
       "\n",
       "    .dataframe tbody tr th {\n",
       "        vertical-align: top;\n",
       "    }\n",
       "\n",
       "    .dataframe thead th {\n",
       "        text-align: right;\n",
       "    }\n",
       "</style>\n",
       "<table border=\"1\" class=\"dataframe\">\n",
       "  <thead>\n",
       "    <tr style=\"text-align: right;\">\n",
       "      <th></th>\n",
       "      <th>SUBJECT_ID</th>\n",
       "      <th>HADM_ID</th>\n",
       "      <th>TEXT</th>\n",
       "      <th>toks</th>\n",
       "      <th>ICD9_CODE</th>\n",
       "    </tr>\n",
       "  </thead>\n",
       "  <tbody>\n",
       "    <tr>\n",
       "      <th>0</th>\n",
       "      <td>3</td>\n",
       "      <td>145834.0</td>\n",
       "      <td>sex m service medicine chief complaint admitt...</td>\n",
       "      <td>[sex, m, service, medicine, chief, complaint, ...</td>\n",
       "      <td>[0389, 78559, 5849, 4275, 41071, 4280, 6826, 4...</td>\n",
       "    </tr>\n",
       "    <tr>\n",
       "      <th>1</th>\n",
       "      <td>4</td>\n",
       "      <td>185777.0</td>\n",
       "      <td>sex f service chief complaint shortness of br...</td>\n",
       "      <td>[sex, f, service, chief, complaint, shortness,...</td>\n",
       "      <td>[042, 1363, 7994, 2763, 7907, 5715, 04111, V090]</td>\n",
       "    </tr>\n",
       "    <tr>\n",
       "      <th>2</th>\n",
       "      <td>6</td>\n",
       "      <td>107064.0</td>\n",
       "      <td>sex f service admission diagnosis end stage r...</td>\n",
       "      <td>[sex, f, service, admission, diagnosis, end, s...</td>\n",
       "      <td>[40391, 4440, 9972, 2766, 2767, 2859, 2753, V1...</td>\n",
       "    </tr>\n",
       "    <tr>\n",
       "      <th>3</th>\n",
       "      <td>9</td>\n",
       "      <td>150750.0</td>\n",
       "      <td>sex m service neurology chief complaint weakn...</td>\n",
       "      <td>[sex, m, service, neurology, chief, complaint,...</td>\n",
       "      <td>[431, 5070, 4280, 5849, 2765, 4019]</td>\n",
       "    </tr>\n",
       "    <tr>\n",
       "      <th>4</th>\n",
       "      <td>10</td>\n",
       "      <td>184167.0</td>\n",
       "      <td>sex f service history of present illness baby...</td>\n",
       "      <td>[sex, f, service, history, of, present, illnes...</td>\n",
       "      <td>[V3000, 7742, 76525, 76515, V290]</td>\n",
       "    </tr>\n",
       "  </tbody>\n",
       "</table>\n",
       "</div>"
      ],
      "text/plain": [
       "   SUBJECT_ID   HADM_ID                                               TEXT   \n",
       "0           3  145834.0   sex m service medicine chief complaint admitt...  \\\n",
       "1           4  185777.0   sex f service chief complaint shortness of br...   \n",
       "2           6  107064.0   sex f service admission diagnosis end stage r...   \n",
       "3           9  150750.0   sex m service neurology chief complaint weakn...   \n",
       "4          10  184167.0   sex f service history of present illness baby...   \n",
       "\n",
       "                                                toks   \n",
       "0  [sex, m, service, medicine, chief, complaint, ...  \\\n",
       "1  [sex, f, service, chief, complaint, shortness,...   \n",
       "2  [sex, f, service, admission, diagnosis, end, s...   \n",
       "3  [sex, m, service, neurology, chief, complaint,...   \n",
       "4  [sex, f, service, history, of, present, illnes...   \n",
       "\n",
       "                                           ICD9_CODE  \n",
       "0  [0389, 78559, 5849, 4275, 41071, 4280, 6826, 4...  \n",
       "1   [042, 1363, 7994, 2763, 7907, 5715, 04111, V090]  \n",
       "2  [40391, 4440, 9972, 2766, 2767, 2859, 2753, V1...  \n",
       "3                [431, 5070, 4280, 5849, 2765, 4019]  \n",
       "4                  [V3000, 7742, 76525, 76515, V290]  "
      ]
     },
     "execution_count": 18,
     "metadata": {},
     "output_type": "execute_result"
    }
   ],
   "source": [
    "final = discharges.merge(diag, left_on=['SUBJECT_ID', 'HADM_ID'], right_on=['SUBJECT_ID', 'HADM_ID'], how='inner')\n",
    "print(final.shape)\n",
    "final.head()"
   ]
  },
  {
   "cell_type": "code",
   "execution_count": 19,
   "metadata": {},
   "outputs": [],
   "source": [
    "final.to_parquet('prepared-data.pq')"
   ]
  },
  {
   "cell_type": "code",
   "execution_count": 20,
   "metadata": {},
   "outputs": [
    {
     "data": {
      "text/plain": [
       "<Axes: >"
      ]
     },
     "execution_count": 20,
     "metadata": {},
     "output_type": "execute_result"
    },
    {
     "data": {
      "image/png": "[encoded data removed]",
      "text/plain": [
       "<Figure size 640x480 with 1 Axes>"
      ]
     },
     "metadata": {},
     "output_type": "display_data"
    }
   ],
   "source": [
    "final.toks.str.len().hist(bins= np.arange(0, 6000, 50))"
   ]
  },
  {
   "cell_type": "code",
   "execution_count": 21,
   "metadata": {},
   "outputs": [
    {
     "data": {
      "text/plain": [
       "datetime.timedelta(seconds=118, microseconds=715848)"
      ]
     },
     "execution_count": 21,
     "metadata": {},
     "output_type": "execute_result"
    }
   ],
   "source": [
    "end = datetime.now()\n",
    "total_time = end - start\n",
    "total_time"
   ]
  }
 ],
 "metadata": {
  "kernelspec": {
   "display_name": "py310",
   "language": "python",
   "name": "python3"
  },
  "language_info": {
   "codemirror_mode": {
    "name": "ipython",
    "version": 3
   },
   "file_extension": ".py",
   "mimetype": "text/x-python",
   "name": "python",
   "nbconvert_exporter": "python",
   "pygments_lexer": "ipython3",
   "version": "3.11.2"
  },
  "orig_nbformat": 4,
  "vscode": {
   "interpreter": {
    "hash": "d716bf7a04a4236457ac4904b85c3b09395e2ba295a5d1cc0de156cec0f44305"
   }
  }
 },
 "nbformat": 4,
 "nbformat_minor": 2
}
