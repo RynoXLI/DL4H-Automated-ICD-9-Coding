{
 "cells": [
  {
   "attachments": {},
   "cell_type": "markdown",
   "metadata": {},
   "source": [
    "# DeepLabeler\n",
    "\n",
    "In this notebook we will train the DeepLabeler architecture."
   ]
  },
  {
   "cell_type": "code",
   "execution_count": 1,
   "metadata": {},
   "outputs": [
    {
     "data": {
      "text/plain": [
       "device(type='cuda', index=0)"
      ]
     },
     "execution_count": 1,
     "metadata": {},
     "output_type": "execute_result"
    }
   ],
   "source": [
    "from torch.utils.data import Dataset, TensorDataset\n",
    "from torch.utils.data import DataLoader\n",
    "from torch.utils.data.dataset import random_split\n",
    "import torch.nn as nn\n",
    "from gensim.models import Word2Vec\n",
    "import gensim\n",
    "from sklearn.preprocessing import MultiLabelBinarizer\n",
    "import pandas as pd\n",
    "import numpy as np\n",
    "import torch\n",
    "from tqdm import tqdm\n",
    "tqdm.pandas()\n",
    "from functools import partial\n",
    "from sklearn.metrics import precision_recall_fscore_support, roc_auc_score\n",
    "import matplotlib.pyplot as plt\n",
    "\n",
    "from datetime import datetime\n",
    "\n",
    "start_time = datetime.now()\n",
    "\n",
    "torch.backends.cudnn.benchmark = True\n",
    "device = torch.device(\"cuda:0\" if torch.cuda.is_available() else \"cpu\")\n",
    "device"
   ]
  },
  {
   "attachments": {},
   "cell_type": "markdown",
   "metadata": {},
   "source": [
    "## Load in data and pretrained models"
   ]
  },
  {
   "cell_type": "code",
   "execution_count": 2,
   "metadata": {},
   "outputs": [
    {
     "data": {
      "text/html": [
       "<div>\n",
       "<style scoped>\n",
       "    .dataframe tbody tr th:only-of-type {\n",
       "        vertical-align: middle;\n",
       "    }\n",
       "\n",
       "    .dataframe tbody tr th {\n",
       "        vertical-align: top;\n",
       "    }\n",
       "\n",
       "    .dataframe thead th {\n",
       "        text-align: right;\n",
       "    }\n",
       "</style>\n",
       "<table border=\"1\" class=\"dataframe\">\n",
       "  <thead>\n",
       "    <tr style=\"text-align: right;\">\n",
       "      <th></th>\n",
       "      <th>SUBJECT_ID</th>\n",
       "      <th>HADM_ID</th>\n",
       "      <th>TEXT</th>\n",
       "      <th>toks</th>\n",
       "      <th>ICD9_CODE</th>\n",
       "    </tr>\n",
       "  </thead>\n",
       "  <tbody>\n",
       "    <tr>\n",
       "      <th>0</th>\n",
       "      <td>3</td>\n",
       "      <td>145834.0</td>\n",
       "      <td>sex m service medicine chief complaint admitt...</td>\n",
       "      <td>[sex, m, service, medicine, chief, complaint, ...</td>\n",
       "      <td>[0389, 78559, 5849, 4275, 41071, 4280, 6826, 4...</td>\n",
       "    </tr>\n",
       "    <tr>\n",
       "      <th>1</th>\n",
       "      <td>4</td>\n",
       "      <td>185777.0</td>\n",
       "      <td>sex f service chief complaint shortness of br...</td>\n",
       "      <td>[sex, f, service, chief, complaint, shortness,...</td>\n",
       "      <td>[042, 1363, 7994, 2763, 7907, 5715, 04111, V090]</td>\n",
       "    </tr>\n",
       "    <tr>\n",
       "      <th>2</th>\n",
       "      <td>6</td>\n",
       "      <td>107064.0</td>\n",
       "      <td>sex f service admission diagnosis end stage r...</td>\n",
       "      <td>[sex, f, service, admission, diagnosis, end, s...</td>\n",
       "      <td>[40391, 4440, 9972, 2766, 2767, 2859, 2753, V1...</td>\n",
       "    </tr>\n",
       "    <tr>\n",
       "      <th>3</th>\n",
       "      <td>9</td>\n",
       "      <td>150750.0</td>\n",
       "      <td>sex m service neurology chief complaint weakn...</td>\n",
       "      <td>[sex, m, service, neurology, chief, complaint,...</td>\n",
       "      <td>[431, 5070, 4280, 5849, 2765, 4019]</td>\n",
       "    </tr>\n",
       "    <tr>\n",
       "      <th>4</th>\n",
       "      <td>10</td>\n",
       "      <td>184167.0</td>\n",
       "      <td>sex f service history of present illness baby...</td>\n",
       "      <td>[sex, f, service, history, of, present, illnes...</td>\n",
       "      <td>[V3000, 7742, 76525, 76515, V290]</td>\n",
       "    </tr>\n",
       "  </tbody>\n",
       "</table>\n",
       "</div>"
      ],
      "text/plain": [
       "   SUBJECT_ID   HADM_ID                                               TEXT  \\\n",
       "0           3  145834.0   sex m service medicine chief complaint admitt...   \n",
       "1           4  185777.0   sex f service chief complaint shortness of br...   \n",
       "2           6  107064.0   sex f service admission diagnosis end stage r...   \n",
       "3           9  150750.0   sex m service neurology chief complaint weakn...   \n",
       "4          10  184167.0   sex f service history of present illness baby...   \n",
       "\n",
       "                                                toks  \\\n",
       "0  [sex, m, service, medicine, chief, complaint, ...   \n",
       "1  [sex, f, service, chief, complaint, shortness,...   \n",
       "2  [sex, f, service, admission, diagnosis, end, s...   \n",
       "3  [sex, m, service, neurology, chief, complaint,...   \n",
       "4  [sex, f, service, history, of, present, illnes...   \n",
       "\n",
       "                                           ICD9_CODE  \n",
       "0  [0389, 78559, 5849, 4275, 41071, 4280, 6826, 4...  \n",
       "1   [042, 1363, 7994, 2763, 7907, 5715, 04111, V090]  \n",
       "2  [40391, 4440, 9972, 2766, 2767, 2859, 2753, V1...  \n",
       "3                [431, 5070, 4280, 5849, 2765, 4019]  \n",
       "4                  [V3000, 7742, 76525, 76515, V290]  "
      ]
     },
     "execution_count": 2,
     "metadata": {},
     "output_type": "execute_result"
    }
   ],
   "source": [
    "data = pd.read_parquet('prepared-data.pq')\n",
    "data.head()"
   ]
  },
  {
   "cell_type": "code",
   "execution_count": 3,
   "metadata": {},
   "outputs": [
    {
     "data": {
      "text/plain": [
       "28"
      ]
     },
     "execution_count": 3,
     "metadata": {},
     "output_type": "execute_result"
    }
   ],
   "source": [
    "data['toks'].apply(lambda x: len(x)).min()"
   ]
  },
  {
   "attachments": {},
   "cell_type": "markdown",
   "metadata": {},
   "source": [
    "Load in word2vec model"
   ]
  },
  {
   "cell_type": "code",
   "execution_count": 4,
   "metadata": {},
   "outputs": [],
   "source": [
    "w2v = Word2Vec.load('word2vec.model')"
   ]
  },
  {
   "attachments": {},
   "cell_type": "markdown",
   "metadata": {},
   "source": [
    "Loading in these vectors as tensors before the collate function saved a lot of time. "
   ]
  },
  {
   "cell_type": "code",
   "execution_count": 5,
   "metadata": {},
   "outputs": [],
   "source": [
    "vecs = {word: torch.tensor(vec, device=device, dtype=torch.float) for word, vec in zip(w2v.wv.index_to_key, w2v.wv.vectors)}"
   ]
  },
  {
   "attachments": {},
   "cell_type": "markdown",
   "metadata": {},
   "source": [
    "Define the dataset"
   ]
  },
  {
   "cell_type": "code",
   "execution_count": 6,
   "metadata": {},
   "outputs": [],
   "source": [
    "class CustomDataset(Dataset):\n",
    "    \n",
    "    def __init__(self, data):\n",
    "        self.mlb = MultiLabelBinarizer()\n",
    "        self.y = torch.tensor(np.vstack(self.mlb.fit_transform(data['ICD9_CODE'].to_list())), dtype=torch.float, device=device)\n",
    "        self.W = data['toks'].to_list()\n",
    "    \n",
    "    def __len__(self):\n",
    "        return self.y.shape[0]\n",
    "    \n",
    "    def __getitem__(self, index):\n",
    "        return self.W[index], self.y[index]\n",
    "    \n",
    "dataset = CustomDataset(data)"
   ]
  },
  {
   "cell_type": "code",
   "execution_count": 7,
   "metadata": {},
   "outputs": [],
   "source": [
    "assert next(iter(dataset))[-1].shape[0] == dataset.mlb.classes_.shape[0]"
   ]
  },
  {
   "attachments": {},
   "cell_type": "markdown",
   "metadata": {},
   "source": [
    "Define the collate function"
   ]
  },
  {
   "cell_type": "code",
   "execution_count": 8,
   "metadata": {},
   "outputs": [],
   "source": [
    "def collate(w2v, max_token_length, data):\n",
    "    \"\"\"\n",
    "    Get word vectors and document vectors for each batch\n",
    "\n",
    "    Arguments:\n",
    "        data: batch data from generator\n",
    "        w2v: Pre-trained Word2Vec model\n",
    "        max_token_length: Maximum length of sequences of tokens to use\n",
    "\n",
    "    Returns:\n",
    "        word_matrix (batch, max_token_length, w2v embedding size), document_vector (batch_size, d2v embedding size), y (batch_size, max_icd9_length)\n",
    "    \"\"\"\n",
    "    W, y = zip(*data)\n",
    "    y = torch.vstack(y)\n",
    "\n",
    "    word_matrix = torch.zeros((len(W), max_token_length, w2v.vector_size), device=device)\n",
    "    # D = torch.vstack(D)\n",
    "    for i, sentence in enumerate(W):\n",
    "        l = []\n",
    "        j = 0\n",
    "        for word in sentence:\n",
    "            if j < 700:\n",
    "                if vecs.get(word) is not None:\n",
    "                    l.append(vecs[word])\n",
    "                    j += 1\n",
    "            else:\n",
    "                break\n",
    "        word_matrix[i, :len(l)] = torch.vstack(l)\n",
    "\n",
    "    return word_matrix, y"
   ]
  },
  {
   "cell_type": "code",
   "execution_count": 9,
   "metadata": {},
   "outputs": [],
   "source": [
    "# I used this cell to test my preprocessing script\n",
    "# I found that minimizing copying tensors over (even in gpu) saves time\n",
    "\n",
    "# # %%timeit\n",
    "# W, D, y = dataset[:10]\n",
    "\n",
    "# word_matrix = torch.zeros((len(W), max_token_length, w2v.vector_size), device=device)\n",
    "# # D = torch.vstack(D)\n",
    "# for i, sentence in enumerate(W):\n",
    "#     j = 0\n",
    "#     l = []\n",
    "#     for word in sentence:\n",
    "#         if j < 700:\n",
    "#             if vecs.get(word) is not None:\n",
    "#                 # word_matrix[i, j] = vecs[word]\n",
    "#                 l.append(vecs[word])\n",
    "#                 j += 1\n",
    "#         else:\n",
    "#             break\n",
    "#     word_matrix[i, :len(l)] = torch.vstack(l)"
   ]
  },
  {
   "attachments": {},
   "cell_type": "markdown",
   "metadata": {},
   "source": [
    "Create train/test split and create data loaders"
   ]
  },
  {
   "cell_type": "code",
   "execution_count": 10,
   "metadata": {},
   "outputs": [],
   "source": [
    "split = int(len(dataset)*0.8)\n",
    "lengths = [split, len(dataset) - split]\n",
    "train_dataset, val_dataset = random_split(dataset, lengths)\n",
    "\n",
    "# Hyperparameters\n",
    "batch_size = 64\n",
    "max_token_length = 700\n",
    "embedding_size = 100\n",
    "output_size = len(dataset.mlb.classes_)\n",
    "\n",
    "collate_fn = partial(collate, w2v, max_token_length)\n",
    "train_loader = DataLoader(train_dataset, batch_size=batch_size, shuffle=True, collate_fn=collate_fn, num_workers=0)\n",
    "val_loader = DataLoader(val_dataset, batch_size=batch_size, shuffle=False, collate_fn=collate_fn, num_workers=0)"
   ]
  },
  {
   "cell_type": "code",
   "execution_count": 11,
   "metadata": {},
   "outputs": [],
   "source": [
    "# I used this cell for testing the time to loop, it eventually took 30s to loop through the whole dataset\n",
    "# for W, D, y in tqdm(train_loader):\n",
    "#     pass"
   ]
  },
  {
   "attachments": {},
   "cell_type": "markdown",
   "metadata": {},
   "source": [
    "Calcuate the convolution kernel size"
   ]
  },
  {
   "cell_type": "code",
   "execution_count": 12,
   "metadata": {},
   "outputs": [],
   "source": [
    "def conv_output_volume(W, F, S, P):\n",
    "    \n",
    "    \"\"\"\n",
    "    TODO: Given the input volume size $W$, the kernel/filter size $F$, \n",
    "    the stride $S$, and the amount of zero padding $P$ used on the border, \n",
    "    calculate the output volume size.\n",
    "    Note the output should a integer. \n",
    "    \"\"\"\n",
    "    \n",
    "    # your code here\n",
    "#     raise NotImplementedError\n",
    "    return (W - F + 2*P ) // S + 1"
   ]
  },
  {
   "attachments": {},
   "cell_type": "markdown",
   "metadata": {},
   "source": [
    "## Define the Model"
   ]
  },
  {
   "cell_type": "code",
   "execution_count": 13,
   "metadata": {},
   "outputs": [
    {
     "data": {
      "text/plain": [
       "DeepLabeler(\n",
       "  (cnn1): Conv2d(1, 64, kernel_size=(3, 3), stride=(1, 1))\n",
       "  (cnn2): Conv2d(1, 64, kernel_size=(4, 4), stride=(1, 1))\n",
       "  (cnn3): Conv2d(1, 64, kernel_size=(5, 5), stride=(1, 1))\n",
       "  (pool1): MaxPool2d(kernel_size=(698, 98), stride=(698, 98), padding=0, dilation=1, ceil_mode=False)\n",
       "  (pool2): MaxPool2d(kernel_size=(697, 97), stride=(697, 97), padding=0, dilation=1, ceil_mode=False)\n",
       "  (pool3): MaxPool2d(kernel_size=(696, 96), stride=(696, 96), padding=0, dilation=1, ceil_mode=False)\n",
       "  (dropout): Dropout(p=0.75, inplace=False)\n",
       "  (fc1): Linear(in_features=192, out_features=1292, bias=True)\n",
       ")"
      ]
     },
     "execution_count": 13,
     "metadata": {},
     "output_type": "execute_result"
    }
   ],
   "source": [
    "class DeepLabeler(nn.Module):\n",
    "    def __init__(self, embedding_size, max_token_length, output_size):\n",
    "        super().__init__()\n",
    "        self.embedding_size = embedding_size\n",
    "        self.max_token_length = max_token_length\n",
    "        self.output_size = output_size\n",
    "\n",
    "        self.cnn1 = nn.Conv2d(in_channels=1, out_channels=64, kernel_size=(3,3))\n",
    "        self.cnn2 = nn.Conv2d(in_channels=1, out_channels=64, kernel_size=(4,4))\n",
    "        self.cnn3 = nn.Conv2d(in_channels=1, out_channels=64, kernel_size=(5,5))\n",
    "        self.pool1 = nn.MaxPool2d((conv_output_volume(self.max_token_length, 3, 1, 0), conv_output_volume(self.embedding_size, 3, 1, 0)))\n",
    "        self.pool2 = nn.MaxPool2d((conv_output_volume(self.max_token_length, 4, 1, 0), conv_output_volume(self.embedding_size, 4, 1, 0)))\n",
    "        self.pool3 = nn.MaxPool2d((conv_output_volume(self.max_token_length, 5, 1, 0), conv_output_volume(self.embedding_size, 5, 1, 0)))\n",
    "        self.dropout = nn.Dropout(p=0.75)\n",
    "        self.fc1 = nn.Linear(64*3, output_size)\n",
    "\n",
    "\n",
    "    def forward(self, W: torch.Tensor):\n",
    "        W = W.unsqueeze(dim=1)\n",
    "        out1 = self.pool1(self.dropout(torch.relu(self.cnn1(W))))\n",
    "        out2 = self.pool2(self.dropout(torch.relu(self.cnn2(W))))\n",
    "        out3 = self.pool3(self.dropout(torch.relu(self.cnn3(W))))\n",
    "\n",
    "        W_embeddings = torch.concat((out1.squeeze().squeeze(), out2.squeeze().squeeze(), out3.squeeze().squeeze()), dim=1)\n",
    "        \n",
    "        return torch.sigmoid(self.fc1(W_embeddings))\n",
    "\n",
    "model = DeepLabeler(embedding_size, max_token_length, output_size)\n",
    "model"
   ]
  },
  {
   "cell_type": "code",
   "execution_count": null,
   "metadata": {},
   "outputs": [],
   "source": [
    "pytorch_total_params = sum(p.numel() for p in model.parameters() if p.requires_grad)\n",
    "pytorch_total_params"
   ]
  },
  {
   "attachments": {},
   "cell_type": "markdown",
   "metadata": {},
   "source": [
    "## Setup Loss and Optimizer"
   ]
  },
  {
   "cell_type": "code",
   "execution_count": 14,
   "metadata": {},
   "outputs": [
    {
     "data": {
      "text/plain": [
       "DeepLabeler(\n",
       "  (cnn1): Conv2d(1, 64, kernel_size=(3, 3), stride=(1, 1))\n",
       "  (cnn2): Conv2d(1, 64, kernel_size=(4, 4), stride=(1, 1))\n",
       "  (cnn3): Conv2d(1, 64, kernel_size=(5, 5), stride=(1, 1))\n",
       "  (pool1): MaxPool2d(kernel_size=(698, 98), stride=(698, 98), padding=0, dilation=1, ceil_mode=False)\n",
       "  (pool2): MaxPool2d(kernel_size=(697, 97), stride=(697, 97), padding=0, dilation=1, ceil_mode=False)\n",
       "  (pool3): MaxPool2d(kernel_size=(696, 96), stride=(696, 96), padding=0, dilation=1, ceil_mode=False)\n",
       "  (dropout): Dropout(p=0.75, inplace=False)\n",
       "  (fc1): Linear(in_features=192, out_features=1292, bias=True)\n",
       ")"
      ]
     },
     "execution_count": 14,
     "metadata": {},
     "output_type": "execute_result"
    }
   ],
   "source": [
    "criterion = nn.BCELoss()\n",
    "optimizer = torch.optim.Adam(model.parameters(), lr=1e-3)\n",
    "\n",
    "criterion.cuda()\n",
    "model.cuda()\n"
   ]
  },
  {
   "attachments": {},
   "cell_type": "markdown",
   "metadata": {},
   "source": [
    "## Train Model"
   ]
  },
  {
   "cell_type": "code",
   "execution_count": 16,
   "metadata": {},
   "outputs": [
    {
     "name": "stderr",
     "output_type": "stream",
     "text": [
      "100%|██████████| 658/658 [02:51<00:00,  3.84it/s]\n"
     ]
    },
    {
     "name": "stdout",
     "output_type": "stream",
     "text": [
      "Epoch 0: curr_epoch_loss=0.0375218540430069\n"
     ]
    },
    {
     "name": "stderr",
     "output_type": "stream",
     "text": [
      "100%|██████████| 658/658 [02:49<00:00,  3.87it/s]\n"
     ]
    },
    {
     "name": "stdout",
     "output_type": "stream",
     "text": [
      "Epoch 1: curr_epoch_loss=0.03734629601240158\n"
     ]
    },
    {
     "name": "stderr",
     "output_type": "stream",
     "text": [
      "100%|██████████| 658/658 [02:49<00:00,  3.88it/s]\n"
     ]
    },
    {
     "name": "stdout",
     "output_type": "stream",
     "text": [
      "Epoch 2: curr_epoch_loss=0.03720013424754143\n"
     ]
    },
    {
     "name": "stderr",
     "output_type": "stream",
     "text": [
      "100%|██████████| 658/658 [02:51<00:00,  3.84it/s]\n"
     ]
    },
    {
     "name": "stdout",
     "output_type": "stream",
     "text": [
      "Epoch 3: curr_epoch_loss=0.03707622364163399\n"
     ]
    },
    {
     "name": "stderr",
     "output_type": "stream",
     "text": [
      "100%|██████████| 658/658 [02:49<00:00,  3.88it/s]"
     ]
    },
    {
     "name": "stdout",
     "output_type": "stream",
     "text": [
      "Epoch 4: curr_epoch_loss=0.036976058036088943\n"
     ]
    },
    {
     "name": "stderr",
     "output_type": "stream",
     "text": [
      "\n"
     ]
    }
   ],
   "source": [
    "n_epoch = 5\n",
    "epoch_loss = []\n",
    "\n",
    "for epoch in range(n_epoch):\n",
    "    curr_epoch_loss = []\n",
    "    for W, y in tqdm(train_loader):\n",
    "        \"\"\"\n",
    "        TODO: Within the loop, do the normal training procedures:\n",
    "                pass the input through the model\n",
    "                pass the output through loss_func to compute the loss (name the variable as *loss*)\n",
    "                zero out currently accumulated gradient, use loss.basckward to backprop the gradients, then call optimizer.step\n",
    "        \"\"\"\n",
    "        # clear gradients\n",
    "        optimizer.zero_grad()\n",
    "        \n",
    "        # with torch.cuda.amp.autocast():\n",
    "                # forward pass\n",
    "        y_hat = model(W)\n",
    "\n",
    "        # calucate loss\n",
    "        loss = criterion(y_hat, y)\n",
    "\n",
    "        # backward pass\n",
    "        loss.backward()\n",
    "        \n",
    "        # optimizer step\n",
    "        optimizer.step()\n",
    "        \n",
    "        curr_epoch_loss.append(loss.cpu().data.numpy())\n",
    "\n",
    "    print(f\"Epoch {epoch}: curr_epoch_loss={np.mean(curr_epoch_loss)}\")\n",
    "    epoch_loss.append(np.mean(curr_epoch_loss))"
   ]
  },
  {
   "cell_type": "code",
   "execution_count": 25,
   "metadata": {},
   "outputs": [
    {
     "name": "stderr",
     "output_type": "stream",
     "text": [
      "No artists with labels found to put in legend.  Note that artists whose label start with an underscore are ignored when legend() is called with no argument.\n"
     ]
    },
    {
     "data": {
      "image/png": "[encoded data removed]",
      "text/plain": [
       "<Figure size 640x480 with 1 Axes>"
      ]
     },
     "metadata": {},
     "output_type": "display_data"
    }
   ],
   "source": [
    "plt.figure()\n",
    "plt.title(\"Epoch Loss\")\n",
    "plt.plot(epoch_loss)\n",
    "plt.xlabel('Epochs')\n",
    "plt.ylabel('Loss')\n",
    "plt.legend(loc='upper right')\n",
    "# plt.text()\n",
    "# plt.savefig('deeplabeler-fscore.png')\n",
    "plt.show()"
   ]
  },
  {
   "cell_type": "code",
   "execution_count": 17,
   "metadata": {},
   "outputs": [],
   "source": [
    "torch.save(model.state_dict(), 'model-no-d2v.pt')"
   ]
  },
  {
   "cell_type": "code",
   "execution_count": null,
   "metadata": {},
   "outputs": [],
   "source": [
    "end = datetime.now()\n",
    "total_time = end - start_time\n",
    "total_time"
   ]
  },
  {
   "attachments": {},
   "cell_type": "markdown",
   "metadata": {},
   "source": [
    "# Evaluate Model"
   ]
  },
  {
   "cell_type": "code",
   "execution_count": 18,
   "metadata": {},
   "outputs": [
    {
     "data": {
      "text/plain": [
       "<All keys matched successfully>"
      ]
     },
     "execution_count": 18,
     "metadata": {},
     "output_type": "execute_result"
    }
   ],
   "source": [
    "model2 = DeepLabeler(embedding_size, max_token_length, output_size)\n",
    "model2.cuda()\n",
    "model2.load_state_dict(torch.load('model-no-d2v.pt'))"
   ]
  },
  {
   "cell_type": "code",
   "execution_count": 19,
   "metadata": {},
   "outputs": [
    {
     "name": "stderr",
     "output_type": "stream",
     "text": [
      "100%|██████████| 165/165 [00:25<00:00,  6.55it/s]\n"
     ]
    }
   ],
   "source": [
    "Y = None\n",
    "Y_hat = None\n",
    "model2.eval()\n",
    "with torch.no_grad():\n",
    "    y_hat_list = []\n",
    "    y_list = []\n",
    "    for W, y in tqdm(val_loader):\n",
    "        y_hat = model2(W).detach().cpu().numpy()\n",
    "        y_list.append(y.detach().cpu().numpy())\n",
    "        y_hat_list.append(y_hat)\n",
    "    Y = np.vstack(y_list)\n",
    "    Y_hat = np.vstack(y_hat_list)"
   ]
  },
  {
   "attachments": {},
   "cell_type": "markdown",
   "metadata": {},
   "source": [
    "## Evaluate at different thresholds"
   ]
  },
  {
   "cell_type": "code",
   "execution_count": 20,
   "metadata": {},
   "outputs": [
    {
     "name": "stderr",
     "output_type": "stream",
     "text": [
      " 80%|████████  | 8/10 [00:09<00:01,  1.02it/s]/home/ryan/miniconda3/envs/py310/lib/python3.10/site-packages/sklearn/metrics/_classification.py:1344: UndefinedMetricWarning: Precision and F-score are ill-defined and being set to 0.0 due to no predicted samples. Use `zero_division` parameter to control this behavior.\n",
      "  _warn_prf(average, modifier, msg_start, len(result))\n",
      " 90%|█████████ | 9/10 [00:10<00:00,  1.04it/s]/home/ryan/miniconda3/envs/py310/lib/python3.10/site-packages/sklearn/metrics/_classification.py:1344: UndefinedMetricWarning: Precision and F-score are ill-defined and being set to 0.0 due to no predicted samples. Use `zero_division` parameter to control this behavior.\n",
      "  _warn_prf(average, modifier, msg_start, len(result))\n",
      "100%|██████████| 10/10 [00:11<00:00,  1.13s/it]\n"
     ]
    }
   ],
   "source": [
    "thresholds = np.arange(0, 1, 0.1)\n",
    "data = []\n",
    "for threshold in tqdm(thresholds):\n",
    "    y_pred_cls = (Y_hat > threshold) * 1\n",
    "    precision, recall, fscore, support = precision_recall_fscore_support(Y, y_pred_cls, average='micro')\n",
    "    data.append((threshold, precision, recall, fscore, support))"
   ]
  },
  {
   "attachments": {},
   "cell_type": "markdown",
   "metadata": {},
   "source": [
    "## Store Results and Create Plots"
   ]
  },
  {
   "cell_type": "code",
   "execution_count": 21,
   "metadata": {},
   "outputs": [
    {
     "data": {
      "text/html": [
       "<div>\n",
       "<style scoped>\n",
       "    .dataframe tbody tr th:only-of-type {\n",
       "        vertical-align: middle;\n",
       "    }\n",
       "\n",
       "    .dataframe tbody tr th {\n",
       "        vertical-align: top;\n",
       "    }\n",
       "\n",
       "    .dataframe thead th {\n",
       "        text-align: right;\n",
       "    }\n",
       "</style>\n",
       "<table border=\"1\" class=\"dataframe\">\n",
       "  <thead>\n",
       "    <tr style=\"text-align: right;\">\n",
       "      <th></th>\n",
       "      <th>threshold</th>\n",
       "      <th>precision</th>\n",
       "      <th>recall</th>\n",
       "      <th>fscore</th>\n",
       "      <th>support</th>\n",
       "    </tr>\n",
       "  </thead>\n",
       "  <tbody>\n",
       "    <tr>\n",
       "      <th>0</th>\n",
       "      <td>0.0</td>\n",
       "      <td>0.008383</td>\n",
       "      <td>1.000000</td>\n",
       "      <td>0.016627</td>\n",
       "      <td>None</td>\n",
       "    </tr>\n",
       "    <tr>\n",
       "      <th>1</th>\n",
       "      <td>0.1</td>\n",
       "      <td>0.009602</td>\n",
       "      <td>0.995772</td>\n",
       "      <td>0.019020</td>\n",
       "      <td>None</td>\n",
       "    </tr>\n",
       "    <tr>\n",
       "      <th>2</th>\n",
       "      <td>0.2</td>\n",
       "      <td>0.029219</td>\n",
       "      <td>0.816561</td>\n",
       "      <td>0.056420</td>\n",
       "      <td>None</td>\n",
       "    </tr>\n",
       "    <tr>\n",
       "      <th>3</th>\n",
       "      <td>0.3</td>\n",
       "      <td>0.097974</td>\n",
       "      <td>0.491395</td>\n",
       "      <td>0.163375</td>\n",
       "      <td>None</td>\n",
       "    </tr>\n",
       "    <tr>\n",
       "      <th>4</th>\n",
       "      <td>0.4</td>\n",
       "      <td>0.260883</td>\n",
       "      <td>0.197667</td>\n",
       "      <td>0.224917</td>\n",
       "      <td>None</td>\n",
       "    </tr>\n",
       "  </tbody>\n",
       "</table>\n",
       "</div>"
      ],
      "text/plain": [
       "   threshold  precision    recall    fscore support\n",
       "0        0.0   0.008383  1.000000  0.016627    None\n",
       "1        0.1   0.009602  0.995772  0.019020    None\n",
       "2        0.2   0.029219  0.816561  0.056420    None\n",
       "3        0.3   0.097974  0.491395  0.163375    None\n",
       "4        0.4   0.260883  0.197667  0.224917    None"
      ]
     },
     "execution_count": 21,
     "metadata": {},
     "output_type": "execute_result"
    }
   ],
   "source": [
    "df = pd.DataFrame(data, columns=['threshold', 'precision', 'recall', 'fscore', 'support'])\n",
    "df.head()"
   ]
  },
  {
   "cell_type": "code",
   "execution_count": 22,
   "metadata": {},
   "outputs": [
    {
     "data": {
      "text/plain": [
       "threshold         0.4\n",
       "precision    0.260883\n",
       "recall       0.197667\n",
       "fscore       0.224917\n",
       "support          None\n",
       "Name: 4, dtype: object"
      ]
     },
     "execution_count": 22,
     "metadata": {},
     "output_type": "execute_result"
    }
   ],
   "source": [
    "df.iloc[df['fscore'].argmax()]"
   ]
  },
  {
   "cell_type": "code",
   "execution_count": 27,
   "metadata": {},
   "outputs": [
    {
     "data": {
      "image/png": "[encoded data removed]",
      "text/plain": [
       "<Figure size 640x480 with 1 Axes>"
      ]
     },
     "metadata": {},
     "output_type": "display_data"
    }
   ],
   "source": [
    "plt.figure()\n",
    "plt.title(\"DeepLabeler F-score Curve\")\n",
    "plt.plot(df['threshold'], df['fscore'], label='F-Score')\n",
    "plt.plot(df['threshold'], df['recall'], label='Recall')\n",
    "plt.plot(df['threshold'], df['precision'], label='Precision')\n",
    "plt.xlabel('Threshold Cutoff')\n",
    "plt.ylabel('Metric')\n",
    "plt.legend(loc='upper right')\n",
    "# plt.text()\n",
    "plt.savefig('deeplabeler-fscore-no-d2v.png')\n",
    "plt.show()"
   ]
  },
  {
   "cell_type": "code",
   "execution_count": 26,
   "metadata": {},
   "outputs": [],
   "source": [
    "df.to_csv('deeplabeler-scores-no-d2v.csv')"
   ]
  },
  {
   "cell_type": "code",
   "execution_count": null,
   "metadata": {},
   "outputs": [],
   "source": [
    "# I used this cell for debugging\n",
    "import torch\n",
    "import sys\n",
    "print('__Python VERSION:', sys.version)\n",
    "print('__pyTorch VERSION:', torch.__version__)\n",
    "print('__CUDA VERSION', )\n",
    "from subprocess import call\n",
    "# call([\"nvcc\", \"--version\"]) does not work\n",
    "! nvcc --version\n",
    "print('__CUDNN VERSION:', torch.backends.cudnn.version())\n",
    "print('__Number CUDA Devices:', torch.cuda.device_count())\n",
    "print('__Devices')\n",
    "# call([\"nvidia-smi\", \"--format=csv\", \"--query-gpu=index,name,driver_version,memory.total,memory.used,memory.free\"])\n",
    "print('Active CUDA Device: GPU', torch.cuda.current_device())\n",
    "print ('Available devices ', torch.cuda.device_count())\n",
    "print ('Current cuda device ', torch.cuda.current_device())"
   ]
  },
  {
   "cell_type": "code",
   "execution_count": null,
   "metadata": {},
   "outputs": [],
   "source": [
    "end = datetime.now()\n",
    "total_time = end - start_time\n",
    "total_time"
   ]
  }
 ],
 "metadata": {
  "kernelspec": {
   "display_name": "py311",
   "language": "python",
   "name": "python3"
  },
  "language_info": {
   "codemirror_mode": {
    "name": "ipython",
    "version": 3
   },
   "file_extension": ".py",
   "mimetype": "text/x-python",
   "name": "python",
   "nbconvert_exporter": "python",
   "pygments_lexer": "ipython3",
   "version": "3.10.10"
  },
  "orig_nbformat": 4
 },
 "nbformat": 4,
 "nbformat_minor": 2
}
